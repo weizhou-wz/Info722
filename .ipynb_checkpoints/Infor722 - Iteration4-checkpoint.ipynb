{
 "cells": [
  {
   "cell_type": "markdown",
   "metadata": {},
   "source": [
    "# This is the source code of the Iteration 4 for Info722 Assessment\n",
    "\n",
    "All the code is coding on the jupyter notebook on AWS EC2 Instance services\n",
    "\n",
    "Instance ID i-09e9cee8d00d748c2\n",
    "Public IPv4 address 34.202.158.7 | open address \n",
    "Instance state Running\n",
    "Public IPv4 DNS ec2-34-202-158-7.compute-1.amazonaws.com | open address "
   ]
  },
  {
   "cell_type": "markdown",
   "metadata": {},
   "source": [
    "## Step1 Data Preparing\n",
    "\n",
    "This part is coding and testing twice, with the data file in the data folder located on AWS EC2 Instance, and the other is directly read the csv files via URL from the NZTA website"
   ]
  },
  {
   "cell_type": "code",
   "execution_count": null,
   "metadata": {},
   "outputs": [],
   "source": [
    "# This part is initial the pyspark envrionment\n",
    "\n",
    "import findspark\n",
    "findspark.init('/home/ubuntu/spark-2.1.1-bin-hadoop2.7')\n",
    "import pyspark\n",
    "from pyspark.sql import SparkSession\n",
    "spark = SparkSession.builder.appName('basics').getOrCreate()\n"
   ]
  },
  {
   "cell_type": "markdown",
   "metadata": {},
   "source": [
    "### Get the data from the csv files \n",
    "All the csv files are unloaded into ../data folder"
   ]
  },
  {
   "cell_type": "code",
   "execution_count": null,
   "metadata": {},
   "outputs": [],
   "source": [
    "# Initial the csv files location and file names\n",
    "\n",
    "FileVehicleYear2015 = \"https://nztaopendata.blob.core.windows.net/motorvehicleregister/VehicleYear-2015.csv\"\n",
    "FileVehicleYear2016 = \"https://nztaopendata.blob.core.windows.net/motorvehicleregister/VehicleYear-2016.csv\"\n",
    "FileVehicleYear2017 = \"https://nztaopendata.blob.core.windows.net/motorvehicleregister/VehicleYear-2017.csv\"\n",
    "FileVehicleYear2018 = \"https://nztaopendata.blob.core.windows.net/motorvehicleregister/VehicleYear-2018.csv\"\n",
    "FileVehicleYear2019 = \"https://nztaopendata.blob.core.windows.net/motorvehicleregister/VehicleYear-2019.csv\"\n",
    "FileVehicleYear2020 = \"https://nztaopendata.blob.core.windows.net/motorvehicleregister/VehicleYear-2020.csv\"\n",
    "\n",
    "# Import the public libs for the data frame and read data from csv files\n",
    "\n",
    "from pyspark import SparkFiles\n",
    "from pyspark.sql.types import StructType,StructField, StringType, IntegerType \n",
    "from pyspark.sql.types import ArrayType, DoubleType, BooleanType\n",
    "\n",
    "\n",
    "spark.sparkContext.addFile(FileVehicleYear2015)\n",
    "\n",
    "\n",
    "VehicleYear2015 = spark.read.option(\"header\",True).csv(SparkFiles.get(\"VehicleYear-2015.csv\"))\n",
    "\n",
    "print(VehicleYear2015.columns)"
   ]
  }
 ],
 "metadata": {
  "kernelspec": {
   "display_name": "Python 3",
   "language": "python",
   "name": "python3"
  },
  "language_info": {
   "codemirror_mode": {
    "name": "ipython",
    "version": 3
   },
   "file_extension": ".py",
   "mimetype": "text/x-python",
   "name": "python",
   "nbconvert_exporter": "python",
   "pygments_lexer": "ipython3",
   "version": "3.5.2"
  }
 },
 "nbformat": 4,
 "nbformat_minor": 2
}
